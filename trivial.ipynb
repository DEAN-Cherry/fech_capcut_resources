{
 "cells": [
  {
   "cell_type": "code",
   "execution_count": 2,
   "id": "initial_id",
   "metadata": {
    "collapsed": true,
    "ExecuteTime": {
     "end_time": "2024-03-18T17:34:11.544710Z",
     "start_time": "2024-03-18T17:34:10.982008Z"
    }
   },
   "outputs": [],
   "source": [
    "import re\n",
    "import bs4\n",
    "import os\n",
    "import pandas as pd\n",
    "\n",
    "from bs4 import BeautifulSoup"
   ]
  },
  {
   "cell_type": "code",
   "execution_count": 3,
   "id": "5f119f7b0b79afbd",
   "metadata": {
    "collapsed": false,
    "ExecuteTime": {
     "end_time": "2024-03-18T17:34:12.963495Z",
     "start_time": "2024-03-18T17:34:12.958360Z"
    }
   },
   "outputs": [],
   "source": [
    "def remove_prefix(id_string):\n",
    "    return re.sub(\"table-item-\", \"\", id_string)\n",
    "\n",
    "\n",
    "def generate_url(_item_id):\n",
    "    # https://www.capcut.com/view/7342830990957478402?workspaceId=7293489460916830210&from=workspace\n",
    "    return f'https://www.capcut.com/view/{_item_id}?workspaceId=7293489460916830210&from=workspace'\n",
    "\n",
    "\n",
    "def link_url_to_file_path_by_name(file_names, file_path):\n",
    "    for file_name in file_names:\n",
    "        _index = df_file_names[df_file_names['Description'].apply(lambda x: x.startswith(file_name))].index\n",
    "        if not _index.empty:\n",
    "            df_link.loc[_index[0]] = [file_name, df_file_names.loc[_index[0]]['URL'], file_path]"
   ]
  },
  {
   "cell_type": "markdown",
   "id": "17ea59193958ba3b",
   "metadata": {
    "collapsed": false
   },
   "source": [
    "# 这部份有 excel 就不需要跑"
   ]
  },
  {
   "cell_type": "code",
   "execution_count": 4,
   "id": "5b32f2128e5b8ba1",
   "metadata": {
    "collapsed": false,
    "ExecuteTime": {
     "end_time": "2024-03-18T17:34:15.057974Z",
     "start_time": "2024-03-18T17:34:15.033679Z"
    }
   },
   "outputs": [],
   "source": [
    "with open('test1.html', encoding='utf-8') as file:\n",
    "    soup = BeautifulSoup(file, 'lxml')"
   ]
  },
  {
   "cell_type": "markdown",
   "source": [
    "## New web page"
   ],
   "metadata": {
    "collapsed": false
   },
   "id": "f155e8e1ad2625dd"
  },
  {
   "cell_type": "code",
   "outputs": [
    {
     "data": {
      "text/plain": "[<div class=\"DataViewGroupBody--kENC1 container_for_calc_grid_size\"></div>,\n <div class=\"DataViewGroupBody--kENC1\">\n <div data-selectable-item-id=\"7343517219818570241\">\n <div aria-describedby=\"DndDescribedBy-0\" aria-disabled=\"false\" aria-roledescription=\"draggable\" data=\"[object Object]\" id=\"7343517219818570241\" role=\"button\" tabindex=\"0\">\n <div data=\"[object Object]\" disabled=\"\" id=\"7343517219818570241\">\n <div>\n <div class=\"wrapper--bauLT\">\n <div class=\"ListFileItem_FileInfo--QhgeX filename--mClDN\">\n <div class=\"ListFileItem_FileInfo_left--CGsO2\"><label class=\"lv-checkbox lv-checkbox-small SelectorSimple--EOVwL\" data-is-checkbox=\"true\" data-is-interactive-element=\"true\"><input type=\"checkbox\" value=\"\"/><span class=\"lv-icon-hover lv-checkbox-icon-hover lv-checkbox-mask-wrapper lv-checkbox-mask-wrapper-small\"><div class=\"lv-checkbox-mask lv-checkbox-mask-small\"><svg aria-hidden=\"true\" class=\"lv-checkbox-mask-icon lv-checkbox-mask-icon-small\" fill=\"currentColor\" focusable=\"false\" height=\"24\" viewbox=\"0 0 24 24\" width=\"24\"><path d=\"M18.8536 8.35355C19.0489 8.54882 19.0489 8.8654 18.8536 9.06066L10.8536 17.0607C10.6584 17.2559 10.3418 17.2559 10.1465 17.0607L5.14651 12.0607C4.95125 11.8654 4.95125 11.5488 5.14651 11.3536L5.85361 10.6464C6.04888 10.4512 6.36546 10.4512 6.56072 10.6464L10.5001 14.5858L17.4394 7.64645C17.6347 7.45118 17.9512 7.45118 18.1465 7.64645L18.8536 8.35355Z\" p-id=\"840\"></path></svg></div></span></label>\n <div class=\"Simple--Exy2R\"><img class=\"Simple_cover--X45wL\" draggable=\"false\" src=\"blob:https://www.capcut.com/8a97a884-3b19-46e0-95d2-f497a72f3c85\"/>\n </div>\n <div class=\"ListFileItem_FileInfo_content--W6xGe\">\n <div class=\"lv-typography\">BG01.png</div>\n </div>\n </div>\n <div class=\"ListFileItem_FileInfo_right--i_Wh1\"></div>\n </div>\n </div>\n </div>\n </div>\n </div>\n </div>\n <div data-selectable-item-id=\"7343516913554686465\">\n <div aria-describedby=\"DndDescribedBy-0\" aria-disabled=\"false\" aria-roledescription=\"draggable\" data=\"[object Object]\" id=\"7343516913554686465\" role=\"button\" tabindex=\"0\">\n <div data=\"[object Object]\" disabled=\"\" id=\"7343516913554686465\">\n <div>\n <div class=\"wrapper--bauLT\">\n <div class=\"ListFileItem_FileInfo--QhgeX filename--mClDN\">\n <div class=\"ListFileItem_FileInfo_left--CGsO2\"><label class=\"lv-checkbox lv-checkbox-small SelectorSimple--EOVwL\" data-is-checkbox=\"true\" data-is-interactive-element=\"true\"><input type=\"checkbox\" value=\"\"/><span class=\"lv-icon-hover lv-checkbox-icon-hover lv-checkbox-mask-wrapper lv-checkbox-mask-wrapper-small\"><div class=\"lv-checkbox-mask lv-checkbox-mask-small\"><svg aria-hidden=\"true\" class=\"lv-checkbox-mask-icon lv-checkbox-mask-icon-small\" fill=\"currentColor\" focusable=\"false\" height=\"24\" viewbox=\"0 0 24 24\" width=\"24\"><path d=\"M18.8536 8.35355C19.0489 8.54882 19.0489 8.8654 18.8536 9.06066L10.8536 17.0607C10.6584 17.2559 10.3418 17.2559 10.1465 17.0607L5.14651 12.0607C4.95125 11.8654 4.95125 11.5488 5.14651 11.3536L5.85361 10.6464C6.04888 10.4512 6.36546 10.4512 6.56072 10.6464L10.5001 14.5858L17.4394 7.64645C17.6347 7.45118 17.9512 7.45118 18.1465 7.64645L18.8536 8.35355Z\" p-id=\"840\"></path></svg></div></span></label>\n <div class=\"Simple--Exy2R\"><img class=\"Simple_cover--X45wL\" draggable=\"false\" src=\"blob:https://www.capcut.com/65b584a7-20d5-4252-b9b1-0a9805ffe6a5\"/>\n </div>\n <div class=\"ListFileItem_FileInfo_content--W6xGe\">\n <div class=\"lv-typography\">dwyukhq8yj2xliq4i50e.gif</div>\n </div>\n </div>\n <div class=\"ListFileItem_FileInfo_right--i_Wh1\"></div>\n </div>\n </div>\n </div>\n </div>\n </div>\n </div>\n <div data-selectable-item-id=\"7343515102382916097\">\n <div aria-describedby=\"DndDescribedBy-0\" aria-disabled=\"false\" aria-roledescription=\"draggable\" data=\"[object Object]\" id=\"7343515102382916097\" role=\"button\" tabindex=\"0\">\n <div data=\"[object Object]\" disabled=\"\" id=\"7343515102382916097\">\n <div>\n <div class=\"wrapper--bauLT\">\n <div class=\"ListFileItem_FileInfo--QhgeX filename--mClDN\">\n <div class=\"ListFileItem_FileInfo_left--CGsO2\"><label class=\"lv-checkbox lv-checkbox-small SelectorSimple--EOVwL\" data-is-checkbox=\"true\" data-is-interactive-element=\"true\"><input type=\"checkbox\" value=\"\"/><span class=\"lv-icon-hover lv-checkbox-icon-hover lv-checkbox-mask-wrapper lv-checkbox-mask-wrapper-small\"><div class=\"lv-checkbox-mask lv-checkbox-mask-small\"><svg aria-hidden=\"true\" class=\"lv-checkbox-mask-icon lv-checkbox-mask-icon-small\" fill=\"currentColor\" focusable=\"false\" height=\"24\" viewbox=\"0 0 24 24\" width=\"24\"><path d=\"M18.8536 8.35355C19.0489 8.54882 19.0489 8.8654 18.8536 9.06066L10.8536 17.0607C10.6584 17.2559 10.3418 17.2559 10.1465 17.0607L5.14651 12.0607C4.95125 11.8654 4.95125 11.5488 5.14651 11.3536L5.85361 10.6464C6.04888 10.4512 6.36546 10.4512 6.56072 10.6464L10.5001 14.5858L17.4394 7.64645C17.6347 7.45118 17.9512 7.45118 18.1465 7.64645L18.8536 8.35355Z\" p-id=\"840\"></path></svg></div></span></label>\n <div class=\"Simple--Exy2R\"><img class=\"Simple_cover--X45wL\" draggable=\"false\" src=\"blob:https://www.capcut.com/2f6adf22-09c0-479e-a419-eed143a576b7\"/>\n </div>\n <div class=\"ListFileItem_FileInfo_content--W6xGe\">\n <div class=\"lv-typography\">cnn.png</div>\n </div>\n </div>\n <div class=\"ListFileItem_FileInfo_right--i_Wh1\"></div>\n </div>\n </div>\n </div>\n </div>\n </div>\n </div>\n </div>]"
     },
     "execution_count": 6,
     "metadata": {},
     "output_type": "execute_result"
    }
   ],
   "source": [
    "\n"
   ],
   "metadata": {
    "collapsed": false,
    "ExecuteTime": {
     "end_time": "2024-03-18T17:35:30.889232Z",
     "start_time": "2024-03-18T17:35:30.878929Z"
    }
   },
   "id": "a0929e0e5a2bfcda",
   "execution_count": 6
  },
  {
   "cell_type": "code",
   "outputs": [],
   "source": [],
   "metadata": {
    "collapsed": false,
    "ExecuteTime": {
     "end_time": "2024-03-18T17:51:36.704717Z",
     "start_time": "2024-03-18T17:51:36.701258Z"
    }
   },
   "id": "4c7a83f9161c27de",
   "execution_count": 21
  },
  {
   "cell_type": "code",
   "outputs": [],
   "source": [
    "data = []"
   ],
   "metadata": {
    "collapsed": false,
    "ExecuteTime": {
     "end_time": "2024-03-18T17:53:14.075505Z",
     "start_time": "2024-03-18T17:53:14.072076Z"
    }
   },
   "id": "c6a535ab8305b706",
   "execution_count": 24
  },
  {
   "cell_type": "code",
   "outputs": [],
   "source": [
    "dataDiv = soup.select('div[class*=\"DataViewGroupBody\"]')\n",
    "dataDiv"
   ],
   "metadata": {
    "collapsed": false
   },
   "id": "95f438c0d943a6b8"
  },
  {
   "cell_type": "code",
   "outputs": [
    {
     "name": "stdout",
     "output_type": "stream",
     "text": [
      "7343517219818570241\n",
      "BG01.png\n",
      "7343516913554686465\n",
      "dwyukhq8yj2xliq4i50e.gif\n",
      "7343515102382916097\n",
      "cnn.png\n"
     ]
    }
   ],
   "source": [
    "for div in dataDiv:\n",
    "    if div.children:\n",
    "        for child in div.children:\n",
    "            if isinstance(child, bs4.element.Tag):\n",
    "                # 获取 data-selectable-item-id 的值\n",
    "                item_id = child.get('data-selectable-item-id')\n",
    "                des = child.select('.lv-typography')\n",
    "                description = des[0].text if des else ''\n",
    "                if item_id is not None:  # 如果 data-selectable-item-id 的值存在\n",
    "                    print(item_id)\n",
    "                    print(description)\n",
    "                    data.append([item_id, description, generate_url(item_id)])\n",
    "\n",
    "# children =dataDiv[1].children\n",
    "# for child in children:\n",
    "#     print(child)"
   ],
   "metadata": {
    "collapsed": false,
    "ExecuteTime": {
     "end_time": "2024-03-18T17:53:48.402764Z",
     "start_time": "2024-03-18T17:53:48.397370Z"
    }
   },
   "id": "f34879db7397a880",
   "execution_count": 25
  },
  {
   "cell_type": "code",
   "outputs": [
    {
     "data": {
      "text/plain": "[['7343517219818570241',\n  'BG01.png',\n  'https://www.capcut.com/view/7343517219818570241?workspaceId=7293489460916830210&from=workspace'],\n ['7343516913554686465',\n  'dwyukhq8yj2xliq4i50e.gif',\n  'https://www.capcut.com/view/7343516913554686465?workspaceId=7293489460916830210&from=workspace'],\n ['7343515102382916097',\n  'cnn.png',\n  'https://www.capcut.com/view/7343515102382916097?workspaceId=7293489460916830210&from=workspace']]"
     },
     "execution_count": 26,
     "metadata": {},
     "output_type": "execute_result"
    }
   ],
   "source": [
    "data"
   ],
   "metadata": {
    "collapsed": false,
    "ExecuteTime": {
     "end_time": "2024-03-18T17:53:50.697180Z",
     "start_time": "2024-03-18T17:53:50.692986Z"
    }
   },
   "id": "e51e865d62ccd30d",
   "execution_count": 26
  },
  {
   "cell_type": "markdown",
   "source": [
    "## Old web page"
   ],
   "metadata": {
    "collapsed": false
   },
   "id": "8633f6c419efc0ac"
  },
  {
   "cell_type": "code",
   "execution_count": 4,
   "id": "8e68779c53894112",
   "metadata": {
    "collapsed": false,
    "ExecuteTime": {
     "end_time": "2024-03-18T17:24:16.429413Z",
     "start_time": "2024-03-18T17:24:16.422223Z"
    }
   },
   "outputs": [],
   "source": [
    "ids = soup.select('.lv-table-cell-wrap-value')\n",
    "data = []"
   ]
  },
  {
   "cell_type": "code",
   "execution_count": 5,
   "id": "fefa19215c20db90",
   "metadata": {
    "collapsed": false,
    "ExecuteTime": {
     "end_time": "2024-03-18T17:24:17.568743Z",
     "start_time": "2024-03-18T17:24:17.564448Z"
    }
   },
   "outputs": [],
   "source": [
    "for e in ids:\n",
    "    if e.contents:\n",
    "        div = e.contents[0]\n",
    "\n",
    "        if div.name == 'div':\n",
    "            itemId = remove_prefix(div.get('id'))\n",
    "            des = div.select('.lv-typography')\n",
    "            description = des[0].text if des else ''\n",
    "            data.append([itemId, description, generate_url(itemId)])"
   ]
  },
  {
   "cell_type": "code",
   "execution_count": 6,
   "id": "5d9b8a901632e80b",
   "metadata": {
    "collapsed": false,
    "ExecuteTime": {
     "end_time": "2024-03-18T17:24:18.619477Z",
     "start_time": "2024-03-18T17:24:18.614546Z"
    }
   },
   "outputs": [
    {
     "data": {
      "text/plain": "[]"
     },
     "execution_count": 6,
     "metadata": {},
     "output_type": "execute_result"
    }
   ],
   "source": [
    "data"
   ]
  },
  {
   "cell_type": "markdown",
   "id": "909c8170a2ed3409",
   "metadata": {
    "collapsed": false
   },
   "source": [
    "# 有 excel 直接跑这里 路经不一样就自己改改"
   ]
  },
  {
   "cell_type": "code",
   "execution_count": 3,
   "id": "fd081b0e330e79cf",
   "metadata": {
    "ExecuteTime": {
     "end_time": "2024-03-09T08:52:26.818538Z",
     "start_time": "2024-03-09T08:52:26.344868Z"
    },
    "collapsed": false
   },
   "outputs": [],
   "source": [
    "source_df = pd.read_excel('./dist/output_2024-03-08 18-38-16.xlsx')"
   ]
  },
  {
   "cell_type": "code",
   "execution_count": 4,
   "id": "687be087e56d4258",
   "metadata": {
    "ExecuteTime": {
     "end_time": "2024-03-09T08:52:27.349100Z",
     "start_time": "2024-03-09T08:52:27.331186Z"
    },
    "collapsed": false
   },
   "outputs": [
    {
     "data": {
      "text/html": [
       "<div>\n",
       "<style scoped>\n",
       "    .dataframe tbody tr th:only-of-type {\n",
       "        vertical-align: middle;\n",
       "    }\n",
       "\n",
       "    .dataframe tbody tr th {\n",
       "        vertical-align: top;\n",
       "    }\n",
       "\n",
       "    .dataframe thead th {\n",
       "        text-align: right;\n",
       "    }\n",
       "</style>\n",
       "<table border=\"1\" class=\"dataframe\">\n",
       "  <thead>\n",
       "    <tr style=\"text-align: right;\">\n",
       "      <th></th>\n",
       "      <th>ID</th>\n",
       "      <th>Description</th>\n",
       "      <th>URL</th>\n",
       "    </tr>\n",
       "  </thead>\n",
       "  <tbody>\n",
       "    <tr>\n",
       "      <th>0</th>\n",
       "      <td>7343932694721479170</td>\n",
       "      <td>felix.lptre_80.jpg</td>\n",
       "      <td>https://www.capcut.com/view/734393269472147917...</td>\n",
       "    </tr>\n",
       "    <tr>\n",
       "      <th>1</th>\n",
       "      <td>7343932694167814658</td>\n",
       "      <td>felix.lptre_91.jpg</td>\n",
       "      <td>https://www.capcut.com/view/734393269416781465...</td>\n",
       "    </tr>\n",
       "    <tr>\n",
       "      <th>2</th>\n",
       "      <td>7343932660193952258</td>\n",
       "      <td>felix.lptre_124.jpg</td>\n",
       "      <td>https://www.capcut.com/view/734393266019395225...</td>\n",
       "    </tr>\n",
       "    <tr>\n",
       "      <th>3</th>\n",
       "      <td>7343932660378501633</td>\n",
       "      <td>felix.lptre_179.jpg</td>\n",
       "      <td>https://www.capcut.com/view/734393266037850163...</td>\n",
       "    </tr>\n",
       "    <tr>\n",
       "      <th>4</th>\n",
       "      <td>7343932660005224962</td>\n",
       "      <td>felix.lptre_195.jpg</td>\n",
       "      <td>https://www.capcut.com/view/734393266000522496...</td>\n",
       "    </tr>\n",
       "    <tr>\n",
       "      <th>...</th>\n",
       "      <td>...</td>\n",
       "      <td>...</td>\n",
       "      <td>...</td>\n",
       "    </tr>\n",
       "    <tr>\n",
       "      <th>879</th>\n",
       "      <td>7342892904412611074</td>\n",
       "      <td>7.mp4</td>\n",
       "      <td>https://www.capcut.com/view/734289290441261107...</td>\n",
       "    </tr>\n",
       "    <tr>\n",
       "      <th>880</th>\n",
       "      <td>7342844305045717505</td>\n",
       "      <td>material_test04.mp4</td>\n",
       "      <td>https://www.capcut.com/view/734284430504571750...</td>\n",
       "    </tr>\n",
       "    <tr>\n",
       "      <th>881</th>\n",
       "      <td>7342832428827804162</td>\n",
       "      <td>material_test03.jpeg</td>\n",
       "      <td>https://www.capcut.com/view/734283242882780416...</td>\n",
       "    </tr>\n",
       "    <tr>\n",
       "      <th>882</th>\n",
       "      <td>7342830990957478402</td>\n",
       "      <td>material_test02.mp4</td>\n",
       "      <td>https://www.capcut.com/view/734283099095747840...</td>\n",
       "    </tr>\n",
       "    <tr>\n",
       "      <th>883</th>\n",
       "      <td>7342441919751913985</td>\n",
       "      <td>material_test01.mp4</td>\n",
       "      <td>https://www.capcut.com/view/734244191975191398...</td>\n",
       "    </tr>\n",
       "  </tbody>\n",
       "</table>\n",
       "<p>884 rows × 3 columns</p>\n",
       "</div>"
      ],
      "text/plain": [
       "                      ID           Description  \\\n",
       "0    7343932694721479170    felix.lptre_80.jpg   \n",
       "1    7343932694167814658    felix.lptre_91.jpg   \n",
       "2    7343932660193952258   felix.lptre_124.jpg   \n",
       "3    7343932660378501633   felix.lptre_179.jpg   \n",
       "4    7343932660005224962   felix.lptre_195.jpg   \n",
       "..                   ...                   ...   \n",
       "879  7342892904412611074                 7.mp4   \n",
       "880  7342844305045717505   material_test04.mp4   \n",
       "881  7342832428827804162  material_test03.jpeg   \n",
       "882  7342830990957478402   material_test02.mp4   \n",
       "883  7342441919751913985   material_test01.mp4   \n",
       "\n",
       "                                                   URL  \n",
       "0    https://www.capcut.com/view/734393269472147917...  \n",
       "1    https://www.capcut.com/view/734393269416781465...  \n",
       "2    https://www.capcut.com/view/734393266019395225...  \n",
       "3    https://www.capcut.com/view/734393266037850163...  \n",
       "4    https://www.capcut.com/view/734393266000522496...  \n",
       "..                                                 ...  \n",
       "879  https://www.capcut.com/view/734289290441261107...  \n",
       "880  https://www.capcut.com/view/734284430504571750...  \n",
       "881  https://www.capcut.com/view/734283242882780416...  \n",
       "882  https://www.capcut.com/view/734283099095747840...  \n",
       "883  https://www.capcut.com/view/734244191975191398...  \n",
       "\n",
       "[884 rows x 3 columns]"
      ]
     },
     "execution_count": 4,
     "metadata": {},
     "output_type": "execute_result"
    }
   ],
   "source": [
    "source_df = pd.DataFrame(data, columns=['ID', 'Description', 'URL'])\n",
    "source_df"
   ]
  },
  {
   "cell_type": "code",
   "execution_count": 7,
   "id": "f55c3b75097a393b",
   "metadata": {
    "ExecuteTime": {
     "end_time": "2024-03-09T08:52:28.790970Z",
     "start_time": "2024-03-09T08:52:28.783160Z"
    },
    "collapsed": false
   },
   "outputs": [
    {
     "data": {
      "text/html": [
       "<div>\n",
       "<style scoped>\n",
       "    .dataframe tbody tr th:only-of-type {\n",
       "        vertical-align: middle;\n",
       "    }\n",
       "\n",
       "    .dataframe tbody tr th {\n",
       "        vertical-align: top;\n",
       "    }\n",
       "\n",
       "    .dataframe thead th {\n",
       "        text-align: right;\n",
       "    }\n",
       "</style>\n",
       "<table border=\"1\" class=\"dataframe\">\n",
       "  <thead>\n",
       "    <tr style=\"text-align: right;\">\n",
       "      <th></th>\n",
       "      <th>Description</th>\n",
       "      <th>URL</th>\n",
       "    </tr>\n",
       "  </thead>\n",
       "  <tbody>\n",
       "    <tr>\n",
       "      <th>0</th>\n",
       "      <td>felix.lptre_80.jpg</td>\n",
       "      <td>https://www.capcut.com/view/734393269472147917...</td>\n",
       "    </tr>\n",
       "    <tr>\n",
       "      <th>1</th>\n",
       "      <td>felix.lptre_91.jpg</td>\n",
       "      <td>https://www.capcut.com/view/734393269416781465...</td>\n",
       "    </tr>\n",
       "    <tr>\n",
       "      <th>2</th>\n",
       "      <td>felix.lptre_124.jpg</td>\n",
       "      <td>https://www.capcut.com/view/734393266019395225...</td>\n",
       "    </tr>\n",
       "    <tr>\n",
       "      <th>3</th>\n",
       "      <td>felix.lptre_179.jpg</td>\n",
       "      <td>https://www.capcut.com/view/734393266037850163...</td>\n",
       "    </tr>\n",
       "    <tr>\n",
       "      <th>4</th>\n",
       "      <td>felix.lptre_195.jpg</td>\n",
       "      <td>https://www.capcut.com/view/734393266000522496...</td>\n",
       "    </tr>\n",
       "    <tr>\n",
       "      <th>...</th>\n",
       "      <td>...</td>\n",
       "      <td>...</td>\n",
       "    </tr>\n",
       "    <tr>\n",
       "      <th>879</th>\n",
       "      <td>7.mp4</td>\n",
       "      <td>https://www.capcut.com/view/734289290441261107...</td>\n",
       "    </tr>\n",
       "    <tr>\n",
       "      <th>880</th>\n",
       "      <td>material_test04.mp4</td>\n",
       "      <td>https://www.capcut.com/view/734284430504571750...</td>\n",
       "    </tr>\n",
       "    <tr>\n",
       "      <th>881</th>\n",
       "      <td>material_test03.jpeg</td>\n",
       "      <td>https://www.capcut.com/view/734283242882780416...</td>\n",
       "    </tr>\n",
       "    <tr>\n",
       "      <th>882</th>\n",
       "      <td>material_test02.mp4</td>\n",
       "      <td>https://www.capcut.com/view/734283099095747840...</td>\n",
       "    </tr>\n",
       "    <tr>\n",
       "      <th>883</th>\n",
       "      <td>material_test01.mp4</td>\n",
       "      <td>https://www.capcut.com/view/734244191975191398...</td>\n",
       "    </tr>\n",
       "  </tbody>\n",
       "</table>\n",
       "<p>884 rows × 2 columns</p>\n",
       "</div>"
      ],
      "text/plain": [
       "              Description                                                URL\n",
       "0      felix.lptre_80.jpg  https://www.capcut.com/view/734393269472147917...\n",
       "1      felix.lptre_91.jpg  https://www.capcut.com/view/734393269416781465...\n",
       "2     felix.lptre_124.jpg  https://www.capcut.com/view/734393266019395225...\n",
       "3     felix.lptre_179.jpg  https://www.capcut.com/view/734393266037850163...\n",
       "4     felix.lptre_195.jpg  https://www.capcut.com/view/734393266000522496...\n",
       "..                    ...                                                ...\n",
       "879                 7.mp4  https://www.capcut.com/view/734289290441261107...\n",
       "880   material_test04.mp4  https://www.capcut.com/view/734284430504571750...\n",
       "881  material_test03.jpeg  https://www.capcut.com/view/734283242882780416...\n",
       "882   material_test02.mp4  https://www.capcut.com/view/734283099095747840...\n",
       "883   material_test01.mp4  https://www.capcut.com/view/734244191975191398...\n",
       "\n",
       "[884 rows x 2 columns]"
      ]
     },
     "execution_count": 7,
     "metadata": {},
     "output_type": "execute_result"
    }
   ],
   "source": [
    "df_file_names = source_df[['Description', 'URL']]\n",
    "df_file_names"
   ]
  },
  {
   "cell_type": "code",
   "execution_count": 8,
   "id": "e2de0957a43ec68b",
   "metadata": {
    "ExecuteTime": {
     "end_time": "2024-03-09T08:52:29.788834Z",
     "start_time": "2024-03-09T08:52:29.781431Z"
    },
    "collapsed": false
   },
   "outputs": [
    {
     "data": {
      "text/html": [
       "<div>\n",
       "<style scoped>\n",
       "    .dataframe tbody tr th:only-of-type {\n",
       "        vertical-align: middle;\n",
       "    }\n",
       "\n",
       "    .dataframe tbody tr th {\n",
       "        vertical-align: top;\n",
       "    }\n",
       "\n",
       "    .dataframe thead th {\n",
       "        text-align: right;\n",
       "    }\n",
       "</style>\n",
       "<table border=\"1\" class=\"dataframe\">\n",
       "  <thead>\n",
       "    <tr style=\"text-align: right;\">\n",
       "      <th></th>\n",
       "      <th>File Name</th>\n",
       "      <th>URL</th>\n",
       "      <th>File Path</th>\n",
       "    </tr>\n",
       "  </thead>\n",
       "  <tbody>\n",
       "  </tbody>\n",
       "</table>\n",
       "</div>"
      ],
      "text/plain": [
       "Empty DataFrame\n",
       "Columns: [File Name, URL, File Path]\n",
       "Index: []"
      ]
     },
     "execution_count": 8,
     "metadata": {},
     "output_type": "execute_result"
    }
   ],
   "source": [
    "df_link = pd.DataFrame(columns=['File Name', 'URL', 'File Path'])\n",
    "df_link"
   ]
  },
  {
   "cell_type": "code",
   "execution_count": 9,
   "id": "397386ceb6de80af",
   "metadata": {
    "ExecuteTime": {
     "end_time": "2024-03-09T08:52:30.941293Z",
     "start_time": "2024-03-09T08:52:30.506247Z"
    },
    "collapsed": false
   },
   "outputs": [
    {
     "name": "stdout",
     "output_type": "stream",
     "text": [
      "CapCutLibrary\n",
      "-------------------\n",
      "2403010001\n",
      "-------------------\n",
      "2403010002\n",
      "-------------------\n",
      "2403010003\n",
      "-------------------\n",
      "2403010004\n",
      "-------------------\n",
      "2403010005\n",
      "-------------------\n",
      "2403010006\n",
      "-------------------\n",
      "2403010007\n",
      "-------------------\n",
      "2403010008\n",
      "-------------------\n",
      "2403010009\n",
      "-------------------\n",
      "2403010010\n",
      "-------------------\n",
      "2403010011\n",
      "-------------------\n",
      "2403010012\n",
      "-------------------\n",
      "2403010013\n",
      "-------------------\n",
      "2403010014\n",
      "-------------------\n",
      "2403010015\n",
      "-------------------\n",
      "2403010016\n",
      "-------------------\n",
      "2403010017\n",
      "-------------------\n",
      "2403010018\n",
      "-------------------\n",
      "2403010019\n",
      "-------------------\n",
      "2403010020\n",
      "-------------------\n",
      "2403010021\n",
      "-------------------\n",
      "2403010022\n",
      "-------------------\n",
      "2403010023\n",
      "-------------------\n",
      "2403010025\n",
      "-------------------\n",
      "2403010026\n",
      "-------------------\n",
      "2403010027\n",
      "-------------------\n",
      "2403010028\n",
      "-------------------\n",
      "2403010029\n",
      "-------------------\n",
      "2403010030\n",
      "-------------------\n"
     ]
    }
   ],
   "source": [
    "# E:\\下载\\CapCutLibrary\n",
    "for dir_path, dir_names, filenames in os.walk('E:\\\\下载\\\\CapCutLibrary'):\n",
    "    # print(dir_path)\n",
    "    print(os.path.basename(dir_path))\n",
    "    # print(dir_names)\n",
    "    # print(filenames)\n",
    "    link_url_to_file_path_by_name(filenames, os.path.basename(dir_path))\n",
    "    print('-------------------')"
   ]
  },
  {
   "cell_type": "code",
   "execution_count": 10,
   "id": "b30140a818532589",
   "metadata": {
    "ExecuteTime": {
     "end_time": "2024-03-09T08:52:31.535180Z",
     "start_time": "2024-03-09T08:52:31.526030Z"
    },
    "collapsed": false
   },
   "outputs": [
    {
     "data": {
      "text/html": [
       "<div>\n",
       "<style scoped>\n",
       "    .dataframe tbody tr th:only-of-type {\n",
       "        vertical-align: middle;\n",
       "    }\n",
       "\n",
       "    .dataframe tbody tr th {\n",
       "        vertical-align: top;\n",
       "    }\n",
       "\n",
       "    .dataframe thead th {\n",
       "        text-align: right;\n",
       "    }\n",
       "</style>\n",
       "<table border=\"1\" class=\"dataframe\">\n",
       "  <thead>\n",
       "    <tr style=\"text-align: right;\">\n",
       "      <th></th>\n",
       "      <th>File Name</th>\n",
       "      <th>URL</th>\n",
       "      <th>File Path</th>\n",
       "    </tr>\n",
       "  </thead>\n",
       "  <tbody>\n",
       "    <tr>\n",
       "      <th>818</th>\n",
       "      <td>camilacisnerosg_1.jpg</td>\n",
       "      <td>https://www.capcut.com/view/734316070733401344...</td>\n",
       "      <td>2403010001</td>\n",
       "    </tr>\n",
       "    <tr>\n",
       "      <th>494</th>\n",
       "      <td>camilacisnerosg_10.jpg</td>\n",
       "      <td>https://www.capcut.com/view/734316541463496345...</td>\n",
       "      <td>2403010001</td>\n",
       "    </tr>\n",
       "    <tr>\n",
       "      <th>493</th>\n",
       "      <td>camilacisnerosg_11.jpg</td>\n",
       "      <td>https://www.capcut.com/view/734316541227355392...</td>\n",
       "      <td>2403010001</td>\n",
       "    </tr>\n",
       "    <tr>\n",
       "      <th>669</th>\n",
       "      <td>camilacisnerosg_2.jpg</td>\n",
       "      <td>https://www.capcut.com/view/734316431721208268...</td>\n",
       "      <td>2403010001</td>\n",
       "    </tr>\n",
       "    <tr>\n",
       "      <th>509</th>\n",
       "      <td>camilacisnerosg_26.jpg</td>\n",
       "      <td>https://www.capcut.com/view/734316533264469248...</td>\n",
       "      <td>2403010001</td>\n",
       "    </tr>\n",
       "    <tr>\n",
       "      <th>...</th>\n",
       "      <td>...</td>\n",
       "      <td>...</td>\n",
       "      <td>...</td>\n",
       "    </tr>\n",
       "    <tr>\n",
       "      <th>142</th>\n",
       "      <td>camilacisnerosg_2090.jpg</td>\n",
       "      <td>https://www.capcut.com/view/734393148001746995...</td>\n",
       "      <td>2403010030</td>\n",
       "    </tr>\n",
       "    <tr>\n",
       "      <th>143</th>\n",
       "      <td>camilacisnerosg_2182.jpg</td>\n",
       "      <td>https://www.capcut.com/view/734393148087730227...</td>\n",
       "      <td>2403010030</td>\n",
       "    </tr>\n",
       "    <tr>\n",
       "      <th>129</th>\n",
       "      <td>camilacisnerosg_394.jpg</td>\n",
       "      <td>https://www.capcut.com/view/734393155836706867...</td>\n",
       "      <td>2403010030</td>\n",
       "    </tr>\n",
       "    <tr>\n",
       "      <th>130</th>\n",
       "      <td>camilacisnerosg_629.jpg</td>\n",
       "      <td>https://www.capcut.com/view/734393153240432691...</td>\n",
       "      <td>2403010030</td>\n",
       "    </tr>\n",
       "    <tr>\n",
       "      <th>134</th>\n",
       "      <td>camilacisnerosg_661.jpg</td>\n",
       "      <td>https://www.capcut.com/view/734393153326835353...</td>\n",
       "      <td>2403010030</td>\n",
       "    </tr>\n",
       "  </tbody>\n",
       "</table>\n",
       "<p>492 rows × 3 columns</p>\n",
       "</div>"
      ],
      "text/plain": [
       "                    File Name  \\\n",
       "818     camilacisnerosg_1.jpg   \n",
       "494    camilacisnerosg_10.jpg   \n",
       "493    camilacisnerosg_11.jpg   \n",
       "669     camilacisnerosg_2.jpg   \n",
       "509    camilacisnerosg_26.jpg   \n",
       "..                        ...   \n",
       "142  camilacisnerosg_2090.jpg   \n",
       "143  camilacisnerosg_2182.jpg   \n",
       "129   camilacisnerosg_394.jpg   \n",
       "130   camilacisnerosg_629.jpg   \n",
       "134   camilacisnerosg_661.jpg   \n",
       "\n",
       "                                                   URL   File Path  \n",
       "818  https://www.capcut.com/view/734316070733401344...  2403010001  \n",
       "494  https://www.capcut.com/view/734316541463496345...  2403010001  \n",
       "493  https://www.capcut.com/view/734316541227355392...  2403010001  \n",
       "669  https://www.capcut.com/view/734316431721208268...  2403010001  \n",
       "509  https://www.capcut.com/view/734316533264469248...  2403010001  \n",
       "..                                                 ...         ...  \n",
       "142  https://www.capcut.com/view/734393148001746995...  2403010030  \n",
       "143  https://www.capcut.com/view/734393148087730227...  2403010030  \n",
       "129  https://www.capcut.com/view/734393155836706867...  2403010030  \n",
       "130  https://www.capcut.com/view/734393153240432691...  2403010030  \n",
       "134  https://www.capcut.com/view/734393153326835353...  2403010030  \n",
       "\n",
       "[492 rows x 3 columns]"
      ]
     },
     "execution_count": 10,
     "metadata": {},
     "output_type": "execute_result"
    }
   ],
   "source": [
    "df_link"
   ]
  },
  {
   "cell_type": "markdown",
   "id": "80a79f7218211d4b",
   "metadata": {
    "collapsed": false
   },
   "source": [
    "# 最后保存到 excel，这里没写，用 jupyter 的保存 或者你自己改改"
   ]
  },
  {
   "cell_type": "code",
   "execution_count": 11,
   "id": "13acd74d",
   "metadata": {},
   "outputs": [],
   "source": [
    "df_link.to_excel('link.xlsx', index=False)"
   ]
  },
  {
   "cell_type": "code",
   "execution_count": 15,
   "id": "4721bcae8c3393ff",
   "metadata": {
    "ExecuteTime": {
     "end_time": "2024-03-07T09:35:46.613133Z",
     "start_time": "2024-03-07T09:35:46.600687Z"
    },
    "collapsed": false
   },
   "outputs": [],
   "source": [
    "df = pd.DataFrame(data, columns=['ID', 'Description'])\n",
    "\n",
    "# 将 DataFrame 写入 Excel 文件\n",
    "df.to_excel('output.xlsx', index=False)"
   ]
  },
  {
   "cell_type": "code",
   "execution_count": 7,
   "id": "34007976f443fa10",
   "metadata": {
    "collapsed": false,
    "ExecuteTime": {
     "end_time": "2024-03-09T10:09:14.792630Z",
     "start_time": "2024-03-09T10:09:14.773223Z"
    }
   },
   "outputs": [
    {
     "name": "stdout",
     "output_type": "stream",
     "text": [
      "                  File Name   File Path  file_number\n",
      "0     camilacisnerosg_1.jpg  2403010001            1\n",
      "3     camilacisnerosg_2.jpg  2403010001            2\n",
      "5     camilacisnerosg_4.jpg  2403010001            4\n",
      "6     camilacisnerosg_5.jpg  2403010001            5\n",
      "7     camilacisnerosg_9.jpg  2403010001            9\n",
      "1    camilacisnerosg_10.jpg  2403010001           10\n",
      "2    camilacisnerosg_11.jpg  2403010001           11\n",
      "4    camilacisnerosg_26.jpg  2403010001           26\n",
      "10   camilacisnerosg_25.jpg  2403010002           25\n",
      "8   camilacisnerosg_198.jpg  2403010002          198\n",
      "9   camilacisnerosg_248.jpg  2403010002          248\n",
      "11  camilacisnerosg_268.jpg  2403010002          268\n",
      "12  camilacisnerosg_287.jpg  2403010002          287\n",
      "13  camilacisnerosg_354.jpg  2403010002          354\n",
      "14  camilacisnerosg_355.jpg  2403010002          355\n",
      "15  camilacisnerosg_357.jpg  2403010002          357\n"
     ]
    }
   ],
   "source": [
    "# 假设 df 是你的 DataFrame\n",
    "df = pd.DataFrame({\n",
    "    'File Name': ['camilacisnerosg_1.jpg', 'camilacisnerosg_10.jpg', 'camilacisnerosg_11.jpg', 'camilacisnerosg_2.jpg', 'camilacisnerosg_26.jpg', 'camilacisnerosg_4.jpg',\n",
    "                  'camilacisnerosg_5.jpg', 'camilacisnerosg_9.jpg', 'camilacisnerosg_198.jpg', 'camilacisnerosg_248.jpg', 'camilacisnerosg_25.jpg', 'camilacisnerosg_268.jpg',\n",
    "                  'camilacisnerosg_287.jpg', 'camilacisnerosg_354.jpg', 'camilacisnerosg_355.jpg', 'camilacisnerosg_357.jpg'],\n",
    "    'File Path': ['2403010001', '2403010001', '2403010001', '2403010001', '2403010001', '2403010001', '2403010001', '2403010001', '2403010002', '2403010002', '2403010002',\n",
    "                  '2403010002', '2403010002', '2403010002', '2403010002', '2403010002']\n",
    "})\n",
    "\n",
    "# 使用正则表达式提取文件名中的数字\n",
    "df['file_number'] = df['File Name'].apply(lambda x: int(re.findall(r'\\d+', x)[0]))\n",
    "\n",
    "# 根据 'File Path' 和 'file_number' 列进行排序\n",
    "df = df.sort_values(by=['File Path', 'file_number'])\n",
    "\n",
    "# 打印排序后的 DataFrame\n",
    "print(df)"
   ]
  },
  {
   "cell_type": "code",
   "outputs": [
    {
     "data": {
      "text/plain": "     File Path  level_1                File Name  file_number\n0   2403010001        0    camilacisnerosg_1.jpg            1\n1   2403010001        3    camilacisnerosg_2.jpg            2\n2   2403010001        5    camilacisnerosg_4.jpg            4\n3   2403010001        6    camilacisnerosg_5.jpg            5\n4   2403010001        7    camilacisnerosg_9.jpg            9\n5   2403010001        1   camilacisnerosg_10.jpg           10\n6   2403010001        2   camilacisnerosg_11.jpg           11\n7   2403010001        4   camilacisnerosg_26.jpg           26\n8   2403010002       15   camilacisnerosg_10.jpg           10\n9   2403010002       10   camilacisnerosg_25.jpg           25\n10  2403010002        8  camilacisnerosg_198.jpg          198\n11  2403010002        9  camilacisnerosg_248.jpg          248\n12  2403010002       11  camilacisnerosg_268.jpg          268\n13  2403010002       12  camilacisnerosg_287.jpg          287\n14  2403010002       13  camilacisnerosg_354.jpg          354\n15  2403010002       14  camilacisnerosg_355.jpg          355",
      "text/html": "<div>\n<style scoped>\n    .dataframe tbody tr th:only-of-type {\n        vertical-align: middle;\n    }\n\n    .dataframe tbody tr th {\n        vertical-align: top;\n    }\n\n    .dataframe thead th {\n        text-align: right;\n    }\n</style>\n<table border=\"1\" class=\"dataframe\">\n  <thead>\n    <tr style=\"text-align: right;\">\n      <th></th>\n      <th>File Path</th>\n      <th>level_1</th>\n      <th>File Name</th>\n      <th>file_number</th>\n    </tr>\n  </thead>\n  <tbody>\n    <tr>\n      <th>0</th>\n      <td>2403010001</td>\n      <td>0</td>\n      <td>camilacisnerosg_1.jpg</td>\n      <td>1</td>\n    </tr>\n    <tr>\n      <th>1</th>\n      <td>2403010001</td>\n      <td>3</td>\n      <td>camilacisnerosg_2.jpg</td>\n      <td>2</td>\n    </tr>\n    <tr>\n      <th>2</th>\n      <td>2403010001</td>\n      <td>5</td>\n      <td>camilacisnerosg_4.jpg</td>\n      <td>4</td>\n    </tr>\n    <tr>\n      <th>3</th>\n      <td>2403010001</td>\n      <td>6</td>\n      <td>camilacisnerosg_5.jpg</td>\n      <td>5</td>\n    </tr>\n    <tr>\n      <th>4</th>\n      <td>2403010001</td>\n      <td>7</td>\n      <td>camilacisnerosg_9.jpg</td>\n      <td>9</td>\n    </tr>\n    <tr>\n      <th>5</th>\n      <td>2403010001</td>\n      <td>1</td>\n      <td>camilacisnerosg_10.jpg</td>\n      <td>10</td>\n    </tr>\n    <tr>\n      <th>6</th>\n      <td>2403010001</td>\n      <td>2</td>\n      <td>camilacisnerosg_11.jpg</td>\n      <td>11</td>\n    </tr>\n    <tr>\n      <th>7</th>\n      <td>2403010001</td>\n      <td>4</td>\n      <td>camilacisnerosg_26.jpg</td>\n      <td>26</td>\n    </tr>\n    <tr>\n      <th>8</th>\n      <td>2403010002</td>\n      <td>15</td>\n      <td>camilacisnerosg_10.jpg</td>\n      <td>10</td>\n    </tr>\n    <tr>\n      <th>9</th>\n      <td>2403010002</td>\n      <td>10</td>\n      <td>camilacisnerosg_25.jpg</td>\n      <td>25</td>\n    </tr>\n    <tr>\n      <th>10</th>\n      <td>2403010002</td>\n      <td>8</td>\n      <td>camilacisnerosg_198.jpg</td>\n      <td>198</td>\n    </tr>\n    <tr>\n      <th>11</th>\n      <td>2403010002</td>\n      <td>9</td>\n      <td>camilacisnerosg_248.jpg</td>\n      <td>248</td>\n    </tr>\n    <tr>\n      <th>12</th>\n      <td>2403010002</td>\n      <td>11</td>\n      <td>camilacisnerosg_268.jpg</td>\n      <td>268</td>\n    </tr>\n    <tr>\n      <th>13</th>\n      <td>2403010002</td>\n      <td>12</td>\n      <td>camilacisnerosg_287.jpg</td>\n      <td>287</td>\n    </tr>\n    <tr>\n      <th>14</th>\n      <td>2403010002</td>\n      <td>13</td>\n      <td>camilacisnerosg_354.jpg</td>\n      <td>354</td>\n    </tr>\n    <tr>\n      <th>15</th>\n      <td>2403010002</td>\n      <td>14</td>\n      <td>camilacisnerosg_355.jpg</td>\n      <td>355</td>\n    </tr>\n  </tbody>\n</table>\n</div>"
     },
     "execution_count": 28,
     "metadata": {},
     "output_type": "execute_result"
    }
   ],
   "source": [
    "# 假设 df 是你的 DataFrame\n",
    "df = pd.DataFrame({\n",
    "    'File Name': ['camilacisnerosg_1.jpg', 'camilacisnerosg_10.jpg', 'camilacisnerosg_11.jpg', 'camilacisnerosg_2.jpg', 'camilacisnerosg_26.jpg', 'camilacisnerosg_4.jpg',\n",
    "                  'camilacisnerosg_5.jpg', 'camilacisnerosg_9.jpg', 'camilacisnerosg_198.jpg', 'camilacisnerosg_248.jpg', 'camilacisnerosg_25.jpg', 'camilacisnerosg_268.jpg',\n",
    "                  'camilacisnerosg_287.jpg', 'camilacisnerosg_354.jpg', 'camilacisnerosg_355.jpg', 'camilacisnerosg_10.jpg'],\n",
    "    'File Path': ['2403010001', '2403010001', '2403010001', '2403010001', '2403010001', '2403010001', '2403010001', '2403010001', '2403010002', '2403010002', '2403010002',\n",
    "                  '2403010002', '2403010002', '2403010002', '2403010002', '2403010002']\n",
    "})\n",
    "\n",
    "# 使用正则表达式提取文件名中的数字\n",
    "df['file_number'] = df['File Name'].apply(lambda x: int(re.findall(r'\\d+', x)[0]))\n",
    "\n",
    "# 对 'File Path' 分组，然后在每个组内根据 'file_number' 进行排序\n",
    "df = df.groupby('File Path').apply(lambda x: x.sort_values('file_number'), include_groups=False)\n",
    "\n",
    "# 重置索引\n",
    "df.reset_index(inplace=True)\n",
    "df = df.drop('level_1', axis=1)\n",
    "# 打印排序后的 DataFrame\n",
    "df"
   ],
   "metadata": {
    "collapsed": false,
    "ExecuteTime": {
     "end_time": "2024-03-09T14:59:31.897792Z",
     "start_time": "2024-03-09T14:59:31.885393Z"
    }
   },
   "id": "f7bc1533705e8174",
   "execution_count": 28
  },
  {
   "cell_type": "code",
   "outputs": [],
   "source": [
    "df.to_excel('test.xlsx', index=False)"
   ],
   "metadata": {
    "collapsed": false,
    "ExecuteTime": {
     "end_time": "2024-03-09T10:18:41.032184Z",
     "start_time": "2024-03-09T10:18:41.018373Z"
    }
   },
   "id": "33f33fe288a6802b",
   "execution_count": 23
  },
  {
   "cell_type": "code",
   "outputs": [
    {
     "name": "stdout",
     "output_type": "stream",
     "text": [
      "File name: ba0011abc_01.jpg, extracted number: 01\n",
      "File name: 0011def_01.jpg, extracted number: 01\n",
      "File name: ghij_23.png, extracted number: 23\n",
      "File name: klmno_4567.svg, extracted number: 4567\n"
     ]
    }
   ],
   "source": [
    "# 定义一个包含文件名的列表\n",
    "file_names = ['ba0011abc_01.jpg', '0011def_01.jpg', 'ghij_23.png', 'klmno_4567.svg']\n",
    "\n",
    "# 对每个文件名应用正则表达式\n",
    "for name in file_names:\n",
    "    # 使用正则表达式提取文件名中的数字\n",
    "    numbers = re.findall(r'_(\\d+)\\.', name)\n",
    "\n",
    "    # 打印提取的数字\n",
    "    if numbers:\n",
    "        print(f\"File name: {name}, extracted number: {numbers[0]}\")\n",
    "    else:\n",
    "        print(f\"File name: {name}, no number extracted\")"
   ],
   "metadata": {
    "collapsed": false,
    "ExecuteTime": {
     "end_time": "2024-03-09T12:03:42.352982Z",
     "start_time": "2024-03-09T12:03:42.324667Z"
    }
   },
   "id": "289e0a2e14bc0dff",
   "execution_count": 24
  },
  {
   "cell_type": "code",
   "outputs": [],
   "source": [
    "from src.link_with_file_path import FileParser"
   ],
   "metadata": {
    "collapsed": false,
    "ExecuteTime": {
     "end_time": "2024-03-09T15:54:08.885472Z",
     "start_time": "2024-03-09T15:54:07.674922Z"
    }
   },
   "id": "f0c1447f1f64e2fd",
   "execution_count": 1
  },
  {
   "cell_type": "code",
   "outputs": [
    {
     "name": "stderr",
     "output_type": "stream",
     "text": [
      "30it [00:00, 59.81it/s]"
     ]
    },
    {
     "name": "stdout",
     "output_type": "stream",
     "text": [
      "Done\n"
     ]
    },
    {
     "name": "stderr",
     "output_type": "stream",
     "text": [
      "\n"
     ]
    }
   ],
   "source": [
    "\n",
    "fp = FileParser('dist/0309FinalCapCut.html', 'E:\\\\下载\\\\CapCutLibrary')\n",
    "fp.run()"
   ],
   "metadata": {
    "collapsed": false,
    "ExecuteTime": {
     "end_time": "2024-03-09T15:54:10.548917Z",
     "start_time": "2024-03-09T15:54:08.886479Z"
    }
   },
   "id": "edaf4a5808560f8",
   "execution_count": 2
  },
  {
   "cell_type": "code",
   "outputs": [],
   "source": [],
   "metadata": {
    "collapsed": false
   },
   "id": "f486c57646fe14e6"
  }
 ],
 "metadata": {
  "kernelspec": {
   "display_name": "Python 3",
   "language": "python",
   "name": "python3"
  },
  "language_info": {
   "codemirror_mode": {
    "name": "ipython",
    "version": 3
   },
   "file_extension": ".py",
   "mimetype": "text/x-python",
   "name": "python",
   "nbconvert_exporter": "python",
   "pygments_lexer": "ipython3",
   "version": "3.11.8"
  }
 },
 "nbformat": 4,
 "nbformat_minor": 5
}
