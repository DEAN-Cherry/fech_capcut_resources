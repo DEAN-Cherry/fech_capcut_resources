{
 "cells": [
  {
   "cell_type": "code",
   "execution_count": 1,
   "id": "initial_id",
   "metadata": {
    "collapsed": true,
    "ExecuteTime": {
     "end_time": "2024-03-07T09:30:32.533001Z",
     "start_time": "2024-03-07T09:30:32.466294Z"
    }
   },
   "outputs": [],
   "source": [
    "from bs4 import BeautifulSoup\n",
    "import re\n",
    "import pandas as pd\n"
   ]
  },
  {
   "cell_type": "code",
   "outputs": [],
   "source": [
    "def remove_prefix(id_string):\n",
    "    return re.sub(\"table-item-\", \"\", id_string)"
   ],
   "metadata": {
    "collapsed": false,
    "ExecuteTime": {
     "end_time": "2024-03-07T09:30:33.397204Z",
     "start_time": "2024-03-07T09:30:33.393203Z"
    }
   },
   "id": "5f119f7b0b79afbd",
   "execution_count": 3
  },
  {
   "cell_type": "code",
   "outputs": [],
   "source": [
    "with open('source.html', encoding='utf-8') as file:\n",
    "    soup = BeautifulSoup(file, 'lxml')"
   ],
   "metadata": {
    "collapsed": false,
    "ExecuteTime": {
     "end_time": "2024-03-07T09:34:33.116682Z",
     "start_time": "2024-03-07T09:34:33.112160Z"
    }
   },
   "id": "5b32f2128e5b8ba1",
   "execution_count": 11
  },
  {
   "cell_type": "code",
   "outputs": [],
   "source": [
    "ids = soup.select('.lv-table-cell-wrap-value')\n",
    "data = []"
   ],
   "metadata": {
    "collapsed": false,
    "ExecuteTime": {
     "end_time": "2024-03-07T09:35:05.576299Z",
     "start_time": "2024-03-07T09:35:05.572275Z"
    }
   },
   "id": "8e68779c53894112",
   "execution_count": 12
  },
  {
   "cell_type": "code",
   "outputs": [],
   "source": [
    "for e in ids:\n",
    "    if e.contents:\n",
    "        div = e.contents[0]\n",
    "        \n",
    "        if div.name == 'div':\n",
    "            itemId = remove_prefix(div.get('id'))\n",
    "            des = div.select('.lv-typography')\n",
    "            description = des[0].text if des else ''\n",
    "            data.append([itemId, description])"
   ],
   "metadata": {
    "collapsed": false,
    "ExecuteTime": {
     "end_time": "2024-03-07T09:35:39.338214Z",
     "start_time": "2024-03-07T09:35:39.333865Z"
    }
   },
   "id": "fefa19215c20db90",
   "execution_count": 13
  },
  {
   "cell_type": "code",
   "outputs": [],
   "source": [
    "df = pd.DataFrame(data, columns=['ID', 'Description'])\n",
    "\n",
    "# 将 DataFrame 写入 Excel 文件\n",
    "df.to_excel('output.xlsx', index=False)"
   ],
   "metadata": {
    "collapsed": false,
    "ExecuteTime": {
     "end_time": "2024-03-07T09:35:46.613133Z",
     "start_time": "2024-03-07T09:35:46.600687Z"
    }
   },
   "id": "4721bcae8c3393ff",
   "execution_count": 15
  },
  {
   "cell_type": "code",
   "outputs": [],
   "source": [],
   "metadata": {
    "collapsed": false
   },
   "id": "34007976f443fa10"
  }
 ],
 "metadata": {
  "kernelspec": {
   "display_name": "Python 3",
   "language": "python",
   "name": "python3"
  },
  "language_info": {
   "codemirror_mode": {
    "name": "ipython",
    "version": 2
   },
   "file_extension": ".py",
   "mimetype": "text/x-python",
   "name": "python",
   "nbconvert_exporter": "python",
   "pygments_lexer": "ipython2",
   "version": "2.7.6"
  }
 },
 "nbformat": 4,
 "nbformat_minor": 5
}
